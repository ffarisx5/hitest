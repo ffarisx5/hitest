{
  "nbformat": 4,
  "nbformat_minor": 0,
  "metadata": {
    "colab": {
      "provenance": [],
      "authorship_tag": "ABX9TyNthiDgRFPvp6YyAXaMcjM1"
    },
    "kernelspec": {
      "name": "python3",
      "display_name": "Python 3"
    },
    "language_info": {
      "name": "python"
    }
  },
  "cells": [
    {
      "cell_type": "code",
      "execution_count": 9,
      "metadata": {
        "colab": {
          "base_uri": "https://localhost:8080/"
        },
        "id": "7BLCW4bGMn3c",
        "outputId": "2d2eb95e-ca2b-4558-8be9-d3a8a26f697b"
      },
      "outputs": [
        {
          "output_type": "stream",
          "name": "stdout",
          "text": [
            "https://www.python.org\n",
            " -> Welcome to Python.org\n",
            "\n",
            "https://www.wikipedia.org\n",
            " -> No Title\n",
            "\n",
            "https://news.ycombinator.com\n",
            " -> Hacker News\n",
            "\n",
            "https://www.github.com\n",
            " -> GitHub · Build and ship software on a single, collaborative platform · GitHub\n",
            "\n",
            "https://stackoverflow.com\n",
            " -> Newest Questions - Stack Overflow\n",
            "\n"
          ]
        }
      ],
      "source": [
        "import requests\n",
        "from concurrent.futures import ThreadPoolExecutor, as_completed\n",
        "from bs4 import BeautifulSoup\n",
        "\n",
        "URLS = [\n",
        "    \"https://www.python.org\",\n",
        "    \"https://www.wikipedia.org\",\n",
        "    \"https://www.github.com\",\n",
        "    \"https://news.ycombinator.com\",\n",
        "    \"https://stackoverflow.com\"\n",
        "]\n",
        "\n",
        "def fetch_title(url):\n",
        "    try:\n",
        "        res = requests.get(url, timeout=5)\n",
        "        soup = BeautifulSoup(res.text, \"html.parser\")\n",
        "        return url, soup.title.string.strip() if soup.title else \"No Title\"\n",
        "    except Exception as e:\n",
        "        return url, f\"Error: {e}\"\n",
        "\n",
        "def main():\n",
        "    with ThreadPoolExecutor(max_workers=5) as executor:\n",
        "        futures = {executor.submit(fetch_title, url): url for url in URLS}\n",
        "        for future in as_completed(futures):\n",
        "            url, title = future.result()\n",
        "            print(f\"{url}\\n -> {title}\\n\")\n",
        "\n",
        "if __name__ == \"__main__\":\n",
        "    main()"
      ]
    },
    {
      "cell_type": "markdown",
      "source": [
        "# New Section"
      ],
      "metadata": {
        "id": "pAxBwMIBP6A1"
      }
    }
  ]
}